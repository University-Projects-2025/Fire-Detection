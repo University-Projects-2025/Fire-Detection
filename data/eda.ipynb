{
 "cells": [
  {
   "cell_type": "code",
   "execution_count": 8,
   "id": "1185ba86",
   "metadata": {},
   "outputs": [],
   "source": [
    "import pandas as pd\n",
    "import numpy as np\n",
    "import matplotlib.pyplot as plt\n",
    "import seaborn as sns"
   ]
  },
  {
   "cell_type": "code",
   "execution_count": 9,
   "id": "ce7f9616",
   "metadata": {},
   "outputs": [],
   "source": [
    "df = pd.read_csv('dataset/labels-for-images.csv')"
   ]
  },
  {
   "cell_type": "code",
   "execution_count": 10,
   "id": "de0a2e48",
   "metadata": {},
   "outputs": [
    {
     "data": {
      "text/html": [
       "<div>\n",
       "<style scoped>\n",
       "    .dataframe tbody tr th:only-of-type {\n",
       "        vertical-align: middle;\n",
       "    }\n",
       "\n",
       "    .dataframe tbody tr th {\n",
       "        vertical-align: top;\n",
       "    }\n",
       "\n",
       "    .dataframe thead th {\n",
       "        text-align: right;\n",
       "    }\n",
       "</style>\n",
       "<table border=\"1\" class=\"dataframe\">\n",
       "  <thead>\n",
       "    <tr style=\"text-align: right;\">\n",
       "      <th></th>\n",
       "      <th>filename</th>\n",
       "      <th>detect</th>\n",
       "      <th>coord1</th>\n",
       "      <th>coord2</th>\n",
       "      <th>coord3</th>\n",
       "      <th>coord4</th>\n",
       "    </tr>\n",
       "  </thead>\n",
       "  <tbody>\n",
       "    <tr>\n",
       "      <th>0</th>\n",
       "      <td>AoF00000</td>\n",
       "      <td>2</td>\n",
       "      <td>0.000000</td>\n",
       "      <td>0.000000</td>\n",
       "      <td>0.000000</td>\n",
       "      <td>0.000000</td>\n",
       "    </tr>\n",
       "    <tr>\n",
       "      <th>1</th>\n",
       "      <td>AoF00001</td>\n",
       "      <td>1</td>\n",
       "      <td>0.216228</td>\n",
       "      <td>0.739130</td>\n",
       "      <td>0.136899</td>\n",
       "      <td>0.150502</td>\n",
       "    </tr>\n",
       "    <tr>\n",
       "      <th>2</th>\n",
       "      <td>AoF00002</td>\n",
       "      <td>0</td>\n",
       "      <td>0.767249</td>\n",
       "      <td>0.288907</td>\n",
       "      <td>0.036799</td>\n",
       "      <td>0.054636</td>\n",
       "    </tr>\n",
       "    <tr>\n",
       "      <th>3</th>\n",
       "      <td>AoF00003</td>\n",
       "      <td>2</td>\n",
       "      <td>0.000000</td>\n",
       "      <td>0.000000</td>\n",
       "      <td>0.000000</td>\n",
       "      <td>0.000000</td>\n",
       "    </tr>\n",
       "    <tr>\n",
       "      <th>4</th>\n",
       "      <td>AoF00004</td>\n",
       "      <td>2</td>\n",
       "      <td>0.000000</td>\n",
       "      <td>0.000000</td>\n",
       "      <td>0.000000</td>\n",
       "      <td>0.000000</td>\n",
       "    </tr>\n",
       "  </tbody>\n",
       "</table>\n",
       "</div>"
      ],
      "text/plain": [
       "   filename  detect    coord1    coord2    coord3    coord4\n",
       "0  AoF00000       2  0.000000  0.000000  0.000000  0.000000\n",
       "1  AoF00001       1  0.216228  0.739130  0.136899  0.150502\n",
       "2  AoF00002       0  0.767249  0.288907  0.036799  0.054636\n",
       "3  AoF00003       2  0.000000  0.000000  0.000000  0.000000\n",
       "4  AoF00004       2  0.000000  0.000000  0.000000  0.000000"
      ]
     },
     "execution_count": 10,
     "metadata": {},
     "output_type": "execute_result"
    }
   ],
   "source": [
    "df.head()"
   ]
  },
  {
   "cell_type": "code",
   "execution_count": 11,
   "id": "f7fef7f4",
   "metadata": {},
   "outputs": [
    {
     "name": "stdout",
     "output_type": "stream",
     "text": [
      "<class 'pandas.core.frame.DataFrame'>\n",
      "RangeIndex: 21527 entries, 0 to 21526\n",
      "Data columns (total 6 columns):\n",
      " #   Column    Non-Null Count  Dtype  \n",
      "---  ------    --------------  -----  \n",
      " 0   filename  21527 non-null  object \n",
      " 1   detect    21527 non-null  int64  \n",
      " 2   coord1    21527 non-null  float64\n",
      " 3   coord2    21527 non-null  float64\n",
      " 4   coord3    21527 non-null  float64\n",
      " 5   coord4    21527 non-null  float64\n",
      "dtypes: float64(4), int64(1), object(1)\n",
      "memory usage: 1009.2+ KB\n"
     ]
    }
   ],
   "source": [
    "df.info()"
   ]
  },
  {
   "cell_type": "code",
   "execution_count": 12,
   "id": "c4fb646a",
   "metadata": {},
   "outputs": [
    {
     "data": {
      "text/plain": [
       "(21527, 6)"
      ]
     },
     "execution_count": 12,
     "metadata": {},
     "output_type": "execute_result"
    }
   ],
   "source": [
    "df.shape"
   ]
  },
  {
   "cell_type": "code",
   "execution_count": 13,
   "id": "7218f8ec",
   "metadata": {},
   "outputs": [
    {
     "name": "stdout",
     "output_type": "stream",
     "text": [
      "Class distribution:\n",
      "smoke (0): 7033 images (32.67%)\n",
      "fire (1): 4656 images (21.63%)\n",
      "clear (2): 9838 images (45.70%)\n"
     ]
    },
    {
     "data": {
      "image/png": "[encoded data removed]",
      "text/plain": [
       "<Figure size 1000x600 with 1 Axes>"
      ]
     },
     "metadata": {},
     "output_type": "display_data"
    }
   ],
   "source": [
    "class_distribution = df['detect'].value_counts().sort_index()\n",
    "class_names = {0: 'smoke', 1: 'fire', 2: 'clear'}\n",
    "\n",
    "plt.figure(figsize=(10, 6))\n",
    "\n",
    "print(\"Class distribution:\")\n",
    "for class_id, count in class_distribution.items():\n",
    "    percentage = (count / len(df)) * 100\n",
    "    print(f\"{class_names[class_id]} ({class_id}): {count} images ({percentage:.2f}%)\")\n",
    "\n",
    "plt.pie(class_distribution.values, labels=[class_names[i] for i in class_distribution.index], \n",
    "        autopct='%1.1f%%', startangle=90)\n",
    "plt.show()"
   ]
  },
  {
   "cell_type": "code",
   "execution_count": 14,
   "id": "612df804",
   "metadata": {},
   "outputs": [
    {
     "data": {
      "image/png": "[encoded data removed]",
      "text/plain": [
       "<Figure size 700x600 with 1 Axes>"
      ]
     },
     "metadata": {},
     "output_type": "display_data"
    }
   ],
   "source": [
    "plt.figure(figsize=(7, 6))\n",
    "\n",
    "sns.barplot(x=[class_names[i] for i in class_distribution.index], \n",
    "           y=class_distribution.values)\n",
    "plt.title('Count of images by class')\n",
    "plt.show()"
   ]
  }
 ],
 "metadata": {
  "kernelspec": {
   "display_name": "Python 3",
   "language": "python",
   "name": "python3"
  },
  "language_info": {
   "codemirror_mode": {
    "name": "ipython",
    "version": 3
   },
   "file_extension": ".py",
   "mimetype": "text/x-python",
   "name": "python",
   "nbconvert_exporter": "python",
   "pygments_lexer": "ipython3",
   "version": "3.13.7"
  }
 },
 "nbformat": 4,
 "nbformat_minor": 5
}
