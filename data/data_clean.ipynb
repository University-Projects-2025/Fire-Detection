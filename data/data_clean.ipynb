{
 "cells": [
  {
   "cell_type": "code",
   "execution_count": null,
   "id": "373a4d20",
   "metadata": {},
   "outputs": [],
   "source": [
    "import os\n",
    "import glob\n",
    "\n",
    "def process_txt_files(directory_path):\n",
    "    \"\"\"\n",
    "    Handles everything .txt files in the specified directory\n",
    "    - if the file is empty: writes the number 2\n",
    "    - if the file is not empty: leaves only the first character (1 or 0)\n",
    "    \"\"\"\n",
    "    \n",
    "    txt_files = glob.glob(os.path.join(directory_path, \"*.txt\"))\n",
    "    \n",
    "    processed_count = 0\n",
    "    empty_count = 0\n",
    "    non_empty_count_fire = 0\n",
    "    non_empty_count_smoke = 0\n",
    "    non_empty_count = 0\n",
    "    \n",
    "    for file_path in txt_files:\n",
    "        try:\n",
    "            with open(file_path, 'r', encoding='utf-8') as file:\n",
    "                content = file.read().strip()\n",
    "            \n",
    "            if not content:\n",
    "                with open(file_path, 'w', encoding='utf-8') as file:\n",
    "                    file.write('2')\n",
    "                empty_count += 1\n",
    "            else:\n",
    "                first_char = content[0]\n",
    "                # with open(file_path, 'w', encoding='utf-8') as file:\n",
    "                #     file.write(first_char)\n",
    "                if first_char == '0':\n",
    "                    non_empty_count_smoke += 1\n",
    "                elif first_char == '1':\n",
    "                    non_empty_count_fire +=1\n",
    "                non_empty_count +=1\n",
    "                \n",
    "\n",
    "            \n",
    "            processed_count += 1\n",
    "            \n",
    "        except Exception as e:\n",
    "            print(f\"File processing error {file_path}: {e}\")\n",
    "    \n",
    "    print(f\"Processing is completed!\")\n",
    "    print(f\"Total files processed: {processed_count}\")\n",
    "    print(f\"Empty files (2 recorded): {empty_count}\")\n",
    "    print(f\"Non-empty files (all): {non_empty_count}\")\n",
    "    print(f\"Non-empty files (the fire): {non_empty_count_fire}\")\n",
    "    print(f\"Non-empty files (the smoke): {non_empty_count_smoke}\")"
   ]
  },
  {
   "cell_type": "code",
   "execution_count": null,
   "id": "dcecb584",
   "metadata": {},
   "outputs": [
    {
     "name": "stdout",
     "output_type": "stream",
     "text": [
      "Processing is completed!\n",
      "Total files processed: 21527\n",
      "Empty files (2 recorded): 9838\n",
      "Non-empty files (all): 11689\n",
      "Non-empty files (the fire): 4656\n",
      "Non-empty files (the smoke): 7033\n"
     ]
    }
   ],
   "source": [
    "process_txt_files(os.path.join(\"dataset\", \"label\"))"
   ]
  },
  {
   "cell_type": "code",
   "execution_count": null,
   "id": "bbf86840",
   "metadata": {},
   "outputs": [],
   "source": [
    "import csv\n",
    "\n",
    "def extract_data_to_csv(directory_path, output_csv=\"labels-for-images.csv\"):\n",
    "    \"\"\"\n",
    "    Collects data from all of them .txt files to CSV file\n",
    "    Format: file_name, number, coordinate 1, coordinate 2, coordinate 3, coordinate 4\n",
    "    \"\"\"\n",
    "    \n",
    "    txt_files = glob.glob(os.path.join(directory_path, \"*.txt\"))\n",
    "    data_rows = []\n",
    "    \n",
    "    processed_count = 0\n",
    "    error_count = 0\n",
    "    \n",
    "    for file_path in txt_files:\n",
    "        try:\n",
    "            filename = os.path.splitext(os.path.basename(file_path))[0]\n",
    "            \n",
    "            with open(file_path, 'r', encoding='utf-8') as file:\n",
    "                content = file.read().strip()\n",
    "            \n",
    "            if not content:\n",
    "                number = 2\n",
    "                coords = [0.0, 0.0, 0.0, 0.0]\n",
    "            else:\n",
    "                parts = content.split()\n",
    "                \n",
    "                if parts:\n",
    "                    try:\n",
    "                        number = int(float(parts[0]))\n",
    "                    except ValueError:\n",
    "                        number = 0\n",
    "                else:\n",
    "                    number = 0\n",
    "                \n",
    "                coords = [0.0, 0.0, 0.0, 0.0]\n",
    "                \n",
    "                for i in range(1, min(5, len(parts))):\n",
    "                    try:\n",
    "                        coords[i-1] = float(parts[i])\n",
    "                    except (ValueError, IndexError):\n",
    "                        coords[i-1] = 0.0\n",
    "            \n",
    "            row = [filename, number] + coords\n",
    "            data_rows.append(row)\n",
    "            \n",
    "            processed_count += 1\n",
    "            \n",
    "        except Exception as e:\n",
    "            error_count += 1\n",
    "    \n",
    "\n",
    "    with open(output_csv, 'w', newline='', encoding='utf-8') as csvfile:\n",
    "        writer = csv.writer(csvfile)\n",
    "        \n",
    "        writer.writerow(['filename', 'detect', 'coord1', 'coord2', 'coord3', 'coord4'])\n",
    "        \n",
    "        writer.writerows(data_rows)\n",
    "    \n",
    "    print(f\"Complete!\")\n",
    "    print(f\"Save result in: {output_csv}\")\n",
    "        "
   ]
  },
  {
   "cell_type": "code",
   "execution_count": 6,
   "id": "7f2fd976",
   "metadata": {},
   "outputs": [
    {
     "name": "stdout",
     "output_type": "stream",
     "text": [
      "Complete!\n",
      "Save result in: labels-for-images.csv\n"
     ]
    }
   ],
   "source": [
    "extract_data_to_csv(os.path.join(\"dataset\", \"label\"))"
   ]
  }
 ],
 "metadata": {
  "kernelspec": {
   "display_name": "Python 3",
   "language": "python",
   "name": "python3"
  },
  "language_info": {
   "codemirror_mode": {
    "name": "ipython",
    "version": 3
   },
   "file_extension": ".py",
   "mimetype": "text/x-python",
   "name": "python",
   "nbconvert_exporter": "python",
   "pygments_lexer": "ipython3",
   "version": "3.13.7"
  }
 },
 "nbformat": 4,
 "nbformat_minor": 5
}
